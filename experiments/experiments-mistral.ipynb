{
 "cells": [
  {
   "cell_type": "markdown",
   "id": "b2ff31df-f61f-452c-aeea-bc335b7ec3ac",
   "metadata": {},
   "source": [
    "# RAG Technique Experiments"
   ]
  },
  {
   "cell_type": "code",
   "execution_count": 46,
   "id": "813b1a13-a589-4317-a331-e190e0ce2193",
   "metadata": {},
   "outputs": [],
   "source": [
    "import os\n",
    "import qdrant_client\n",
    "\n",
    "from llama_index.core import (\n",
    "    Settings,\n",
    "    SimpleDirectoryReader,\n",
    "    StorageContext,\n",
    "    VectorStoreIndex,\n",
    ")\n",
    "from llama_index.core.extractors import QuestionsAnsweredExtractor\n",
    "from llama_index.core.indices.postprocessor import SentenceTransformerRerank\n",
    "from llama_index.core.schema import MetadataMode\n",
    "from llama_index.embeddings.fastembed import FastEmbedEmbedding\n",
    "from llama_index.vector_stores.qdrant import QdrantVectorStore\n",
    "from llama_index.llms.ollama import Ollama\n",
    "import torch\n",
    "from llama_index.core.llama_dataset import (\n",
    "    LabelledRagDataset,\n",
    "    CreatedBy,\n",
    "    CreatedByType,\n",
    "    LabelledRagDataExample,\n",
    ")\n",
    "from llama_index.core.llama_pack import download_llama_pack\n",
    "import inspect\n",
    "from qdrant_client import QdrantClient, AsyncQdrantClient\n",
    "from llama_index.core.evaluation import (\n",
    "    generate_question_context_pairs,\n",
    "    EmbeddingQAFinetuneDataset,\n",
    ")\n",
    "from llama_index.core.vector_stores.types import VectorStoreQuery\n",
    "from llama_index.core.evaluation import RetrieverEvaluator\n",
    "from llama_index.core.evaluation import RetrieverEvaluator\n",
    "import pandas as pd\n",
    "from llama_index.core.evaluation import QueryResponseDataset"
   ]
  },
  {
   "cell_type": "code",
   "execution_count": 2,
   "id": "1a22d989-6431-430d-af1d-5c7dc9454c85",
   "metadata": {},
   "outputs": [],
   "source": [
    "# This import is required for asynchronous functions to work\n",
    "import nest_asyncio\n",
    "\n",
    "nest_asyncio.apply()"
   ]
  },
  {
   "cell_type": "markdown",
   "id": "2647d3f3-c411-4eb3-bf2f-2110d18dfdb4",
   "metadata": {},
   "source": [
    "## Configuration"
   ]
  },
  {
   "cell_type": "markdown",
   "id": "34253322-f2a8-450a-b749-d7b7720ad4ee",
   "metadata": {},
   "source": [
    "### Model Settings"
   ]
  },
  {
   "cell_type": "code",
   "execution_count": 3,
   "id": "810f4cd4-4fa3-4a3a-90c6-77f28694401f",
   "metadata": {},
   "outputs": [],
   "source": [
    "LLM_MODEL = \"mistral:latest\"\n",
    "LLM = Ollama(model=LLM_MODEL, request_timeout=36000.0)\n",
    "Settings.llm = LLM\n",
    "EMBED_MODEL = os.environ.get(\"EMBED_MODEL\", \"BAAI/bge-base-en-v1.5\")"
   ]
  },
  {
   "cell_type": "code",
   "execution_count": 4,
   "id": "850fa4e5-1c12-4132-bc66-674b1e8406eb",
   "metadata": {},
   "outputs": [
    {
     "data": {
      "application/vnd.jupyter.widget-view+json": {
       "model_id": "4331285f20994e5987685fc76d7f163a",
       "version_major": 2,
       "version_minor": 0
      },
      "text/plain": [
       "Fetching 5 files:   0%|          | 0/5 [00:00<?, ?it/s]"
      ]
     },
     "metadata": {},
     "output_type": "display_data"
    }
   ],
   "source": [
    "EMBED_MODEL = os.environ.get(\"EMBED_MODEL\", \"BAAI/bge-base-en-v1.5\")\n",
    "Settings.embed_model = FastEmbedEmbedding(model_name=EMBED_MODEL)"
   ]
  },
  {
   "cell_type": "code",
   "execution_count": 5,
   "id": "45500c17-0793-44bb-ae80-5ff05947d034",
   "metadata": {},
   "outputs": [],
   "source": [
    "RERANK_MODEL = SentenceTransformerRerank(top_n=2, model=\"BAAI/bge-reranker-base\")"
   ]
  },
  {
   "cell_type": "markdown",
   "id": "16c06405-ab3a-4931-b777-b0665b1f244b",
   "metadata": {},
   "source": [
    "### Vector Store Settings"
   ]
  },
  {
   "cell_type": "code",
   "execution_count": 6,
   "id": "502545a5-cd79-460e-b7d0-d21e1f597adc",
   "metadata": {},
   "outputs": [],
   "source": [
    "QDRANT_HOST = os.environ.get(\"QDRANT_HOST\", \"localhost\")\n",
    "QDRANT_PORT = os.environ.get(\"PORT\", 6333)"
   ]
  },
  {
   "cell_type": "code",
   "execution_count": 7,
   "id": "17a78177-0722-4765-9809-479ea585eeba",
   "metadata": {},
   "outputs": [
    {
     "data": {
      "text/plain": [
       "CollectionsResponse(collections=[CollectionDescription(name='style_python')])"
      ]
     },
     "execution_count": 7,
     "metadata": {},
     "output_type": "execute_result"
    }
   ],
   "source": [
    "QDRANT_CLIENT = qdrant_client.QdrantClient(\n",
    "    # location=\":memory:\"\n",
    "    host=QDRANT_HOST,\n",
    "    port=QDRANT_PORT,\n",
    ")\n",
    "QDRANT_CLIENT.get_collections()"
   ]
  },
  {
   "cell_type": "code",
   "execution_count": 8,
   "id": "1fd71905-c6d9-46b6-aab9-585289a81fd4",
   "metadata": {},
   "outputs": [
    {
     "data": {
      "text/plain": [
       "CollectionsResponse(collections=[CollectionDescription(name='style_python')])"
      ]
     },
     "execution_count": 8,
     "metadata": {},
     "output_type": "execute_result"
    }
   ],
   "source": [
    "QDRANT_CLIENT_ASYNC = qdrant_client.AsyncQdrantClient(\n",
    "    # location=\":memory:\"\n",
    "    host=QDRANT_HOST,\n",
    "    port=QDRANT_PORT,\n",
    ")\n",
    "await QDRANT_CLIENT_ASYNC.get_collections()"
   ]
  },
  {
   "cell_type": "code",
   "execution_count": 9,
   "id": "11a25c59-4f59-4496-bde8-31e96e1acabf",
   "metadata": {},
   "outputs": [
    {
     "name": "stderr",
     "output_type": "stream",
     "text": [
      "Both client and aclient are provided. If using `:memory:` mode, the data between clients is not synced.\n"
     ]
    },
    {
     "data": {
      "application/vnd.jupyter.widget-view+json": {
       "model_id": "9a4247b049aa4c2db3f7a7ead0bf47a3",
       "version_major": 2,
       "version_minor": 0
      },
      "text/plain": [
       "Fetching 5 files:   0%|          | 0/5 [00:00<?, ?it/s]"
      ]
     },
     "metadata": {},
     "output_type": "display_data"
    },
    {
     "data": {
      "application/vnd.jupyter.widget-view+json": {
       "model_id": "abb4a1d861d34a6492cb5c22419f9043",
       "version_major": 2,
       "version_minor": 0
      },
      "text/plain": [
       "Fetching 5 files:   0%|          | 0/5 [00:00<?, ?it/s]"
      ]
     },
     "metadata": {},
     "output_type": "display_data"
    },
    {
     "data": {
      "application/vnd.jupyter.widget-view+json": {
       "model_id": "c72d61fa15974fa3a282351ac63f2291",
       "version_major": 2,
       "version_minor": 0
      },
      "text/plain": [
       "Fetching 5 files:   0%|          | 0/5 [00:00<?, ?it/s]"
      ]
     },
     "metadata": {},
     "output_type": "display_data"
    },
    {
     "data": {
      "application/vnd.jupyter.widget-view+json": {
       "model_id": "8fddc9e3e7c346cc88063000660b9ade",
       "version_major": 2,
       "version_minor": 0
      },
      "text/plain": [
       "Fetching 5 files:   0%|          | 0/5 [00:00<?, ?it/s]"
      ]
     },
     "metadata": {},
     "output_type": "display_data"
    }
   ],
   "source": [
    "vector_store = QdrantVectorStore(\n",
    "    client=QDRANT_CLIENT,\n",
    "    aclient=QDRANT_CLIENT_ASYNC,\n",
    "    enable_hybrid=True,\n",
    "    collection_name=\"style_python\"\n",
    ")"
   ]
  },
  {
   "cell_type": "code",
   "execution_count": 10,
   "id": "78ff8ac4-7afd-4fd0-8a7e-fcd293f9a4cf",
   "metadata": {},
   "outputs": [],
   "source": [
    "index = VectorStoreIndex.from_vector_store(vector_store)"
   ]
  },
  {
   "cell_type": "code",
   "execution_count": 11,
   "id": "744e69b0-4db3-4529-86a8-5ae43bd8eeff",
   "metadata": {},
   "outputs": [],
   "source": [
    "query = \"Should I always use parentheses around tuples?\""
   ]
  },
  {
   "cell_type": "markdown",
   "id": "2186b667-07f0-41cf-a775-9b6cfe0d8807",
   "metadata": {},
   "source": [
    "## Techniques"
   ]
  },
  {
   "cell_type": "code",
   "execution_count": 83,
   "id": "1781974b-1cd6-43d1-a951-c80fc54183da",
   "metadata": {},
   "outputs": [],
   "source": [
    "from llama_index.core.indices.query.query_transform import HyDEQueryTransform\n",
    "from llama_index.core.query_engine import TransformQueryEngine"
   ]
  },
  {
   "cell_type": "code",
   "execution_count": 85,
   "id": "d7e8b6df-e851-4612-8b94-7901c8a3b9bf",
   "metadata": {},
   "outputs": [],
   "source": [
    "hyde = HyDEQueryTransform(include_original=True)"
   ]
  },
  {
   "cell_type": "code",
   "execution_count": 93,
   "id": "e3834f11-49a6-4afd-a01c-281feba93c38",
   "metadata": {},
   "outputs": [],
   "source": [
    "from llama_index.core.indices.query.query_transform.base import (\n",
    "    StepDecomposeQueryTransform,\n",
    ")\n",
    "from llama_index.core.query_engine import MultiStepQueryEngine"
   ]
  },
  {
   "cell_type": "code",
   "execution_count": 94,
   "id": "48e33c75-49ef-42b8-851d-6ff5398cb338",
   "metadata": {},
   "outputs": [],
   "source": [
    "step_decompose_transform = StepDecomposeQueryTransform(llm=Settings.llm, verbose=True)"
   ]
  },
  {
   "cell_type": "markdown",
   "id": "be1a6763-f5e8-4f1d-8d43-6163b5c0e027",
   "metadata": {},
   "source": [
    "### Test Queries"
   ]
  },
  {
   "cell_type": "code",
   "execution_count": 12,
   "id": "e8db3ce3-420e-4d7a-ade5-fcac16769a79",
   "metadata": {},
   "outputs": [],
   "source": [
    "query_engine_basic = index.as_query_engine(\n",
    "    similarity_top_k=2,\n",
    "    sparse_top_k=12,\n",
    "    use_async=True\n",
    ")"
   ]
  },
  {
   "cell_type": "code",
   "execution_count": 13,
   "id": "371602db-2d44-474d-b0fc-13f79c693dcf",
   "metadata": {},
   "outputs": [
    {
     "data": {
      "text/plain": [
       "\" According to the provided style guide, using parentheses around single-item tuples is more visually obvious than using commas. However, it's not required and is a matter of preference. In return statements or conditional statements, parentheses should be used sparingly and only for implied line continuation or to indicate a tuple.\""
      ]
     },
     "execution_count": 13,
     "metadata": {},
     "output_type": "execute_result"
    }
   ],
   "source": [
    "response = query_engine_basic.query(query)\n",
    "response.response"
   ]
  },
  {
   "cell_type": "code",
   "execution_count": 98,
   "id": "289703bc-3d88-4aa3-b2c3-d7cde993cc36",
   "metadata": {},
   "outputs": [],
   "source": [
    "query_engine_hybrid = index.as_query_engine(\n",
    "    similarity_top_k=2,\n",
    "    sparse_top_k=12,\n",
    "    vector_store_query_mode=\"hybrid\",\n",
    "    use_async=True\n",
    ")"
   ]
  },
  {
   "cell_type": "code",
   "execution_count": 99,
   "id": "e44851da-b6d3-4465-8b5a-9a2af5ec722f",
   "metadata": {},
   "outputs": [
    {
     "data": {
      "text/plain": [
       "\" According to the provided context, it is recommended to use parentheses sparingly in Python, especially around tuples. They are only required when the tuple contains more than one type or a mix of types, or when used as return types from functions. It's generally fine to omit parentheses for single-type tuples, as they can be distinguished from lists by their trailing comma. However, using parentheses may make the tuple more visually obvious in some cases. Ultimately, the decision depends on personal coding style and adherence to established conventions within your project or organization.\""
      ]
     },
     "execution_count": 99,
     "metadata": {},
     "output_type": "execute_result"
    }
   ],
   "source": [
    "response = query_engine_hybrid.query(query)\n",
    "response.response"
   ]
  },
  {
   "cell_type": "code",
   "execution_count": 17,
   "id": "722cfb9b-b9e6-475f-a9f3-0603b9af9e29",
   "metadata": {},
   "outputs": [],
   "source": [
    "query_engine_rerank = index.as_query_engine(\n",
    "    similarity_top_k=2,\n",
    "    sparse_top_k=12,\n",
    "    vector_store_query_mode=\"hybrid\",\n",
    "    node_postprocessors=[RERANK_MODEL],\n",
    "    use_async=True\n",
    ")"
   ]
  },
  {
   "cell_type": "code",
   "execution_count": 18,
   "id": "3720ab6a-4211-41a4-9745-6bb5a4f5bc7a",
   "metadata": {},
   "outputs": [
    {
     "data": {
      "text/plain": [
       "' It is recommended in the provided style guide to use parentheses sparingly and only around tuples when it makes the code more visually obvious than using a comma as the separator, especially for a one-item tuple. However, the use of parentheses around multi-item tuples is not required. In fact, typed tuples are commonly used as the return type from a function without using parentheses.'"
      ]
     },
     "execution_count": 18,
     "metadata": {},
     "output_type": "execute_result"
    }
   ],
   "source": [
    "response = query_engine_rerank.query(query)\n",
    "response.response"
   ]
  },
  {
   "cell_type": "code",
   "execution_count": 86,
   "id": "779cb163-bf95-4da4-a052-aa751fd44f77",
   "metadata": {},
   "outputs": [],
   "source": [
    "query_engine_hyde = TransformQueryEngine(query_engine_hybrid, hyde)"
   ]
  },
  {
   "cell_type": "code",
   "execution_count": 87,
   "id": "d7cc4cfd-d771-45f6-899a-95e32448d8cd",
   "metadata": {},
   "outputs": [
    {
     "data": {
      "text/plain": [
       "' According to the provided context, it is recommended to use parentheses sparingly and not in return statements or conditional statements unless for implied line continuation or to indicate a tuple. However, when defining a tuple with multiple types or elements of different types, parentheses are required. So, while not always necessary, using parentheses around tuples can be helpful for clarity and proper representation.'"
      ]
     },
     "execution_count": 87,
     "metadata": {},
     "output_type": "execute_result"
    }
   ],
   "source": [
    "response = query_engine_hyde.query(query)\n",
    "response.response"
   ]
  },
  {
   "cell_type": "code",
   "execution_count": 103,
   "id": "86d7898c-d4a3-47d4-ae27-5d0c733bcb7d",
   "metadata": {},
   "outputs": [],
   "source": [
    "query_engine_multistep = MultiStepQueryEngine(\n",
    "    query_engine=query_engine_hybrid,\n",
    "    query_transform=step_decompose_transform,\n",
    "    index_summary=\"Used to answer questions about Python programming style and best practices\",\n",
    ")"
   ]
  },
  {
   "cell_type": "code",
   "execution_count": 105,
   "id": "6e0e3ab1-f7d8-4582-95ac-114450d08a4e",
   "metadata": {},
   "outputs": [
    {
     "name": "stdout",
     "output_type": "stream",
     "text": [
      "\u001b[1;3;33m> Current query: Should I always use parentheses around tuples?\n",
      "\u001b[0m\u001b[1;3;38;5;200m> New query:  Is it a common practice in Python to use parentheses around tuples for clarity and readability?\n",
      "\u001b[0m\u001b[1;3;33m> Current query: Should I always use parentheses around tuples?\n",
      "\u001b[0m\u001b[1;3;38;5;200m> New query:  Is it a best practice in Python to use parentheses around multi-item tuples for clarity and readability?\n",
      "\u001b[0m\u001b[1;3;33m> Current query: Should I always use parentheses around tuples?\n",
      "\u001b[0m\u001b[1;3;38;5;200m> New query:  Is it recommended in Python to use parentheses around multi-item tuples for clarity and readability, or is their use optional?\n",
      "\u001b[0m"
     ]
    },
    {
     "data": {
      "text/plain": [
       "' In Python, using parentheses around single-item tuples is optional and largely a matter of personal preference or project style guidelines. For multi-item tuples or tuples with different types, parentheses are necessary to define the tuple type explicitly. However, their use is generally optional in return statements or conditional statements unless used for implied line continuation or to indicate a tuple. Ultimately, whether to use parentheses around tuples depends on your coding style and preferences.'"
      ]
     },
     "execution_count": 105,
     "metadata": {},
     "output_type": "execute_result"
    }
   ],
   "source": [
    "response = query_engine_multistep.query(query)\n",
    "response.response"
   ]
  },
  {
   "cell_type": "code",
   "execution_count": null,
   "id": "1ca6147a-687c-4fee-bd3d-c61499590120",
   "metadata": {},
   "outputs": [],
   "source": []
  },
  {
   "cell_type": "code",
   "execution_count": null,
   "id": "2765d510-5ca1-462c-aa3f-d32ffbe95279",
   "metadata": {},
   "outputs": [],
   "source": []
  },
  {
   "cell_type": "markdown",
   "id": "4c4a3d4f-1585-41fc-b8eb-d71bf530826e",
   "metadata": {},
   "source": [
    "### Test 1 - Evaluate Correctness, Relevancy, Faithfulness, Context Similarity"
   ]
  },
  {
   "cell_type": "code",
   "execution_count": 19,
   "id": "b694a000-5c50-4d1b-9ec7-7afe7d691131",
   "metadata": {},
   "outputs": [],
   "source": [
    "rag_dataset = LabelledRagDataset.from_json(\"data/testsets/style_guide_testset.json\")"
   ]
  },
  {
   "cell_type": "code",
   "execution_count": null,
   "id": "2bb442b6-3227-4175-90f3-d0a92bc69e05",
   "metadata": {},
   "outputs": [],
   "source": [
    "RagEvaluatorPack = download_llama_pack(\"RagEvaluatorPack\", \"./pack\")"
   ]
  },
  {
   "cell_type": "code",
   "execution_count": 21,
   "id": "6f6d1115-4f9c-4cfc-80f7-2bf999cae6ae",
   "metadata": {},
   "outputs": [
    {
     "data": {
      "text/plain": [
       "<Signature (query_engine: llama_index.core.base.base_query_engine.BaseQueryEngine, rag_dataset: llama_index.core.llama_dataset.base.BaseLlamaDataset, judge_llm: Optional[llama_index.core.llms.llm.LLM] = None, embed_model: Optional[llama_index.core.base.embeddings.base.BaseEmbedding] = None, show_progress: bool = True, result_path: Optional[str] = None)>"
      ]
     },
     "execution_count": 21,
     "metadata": {},
     "output_type": "execute_result"
    }
   ],
   "source": [
    "inspect.signature(RagEvaluatorPack)"
   ]
  },
  {
   "cell_type": "code",
   "execution_count": 24,
   "id": "1acb4263-c4eb-493a-b219-76892aa076e0",
   "metadata": {},
   "outputs": [],
   "source": [
    "rag_evaluator_basic = RagEvaluatorPack(\n",
    "    query_engine=query_engine_basic,  # built with the same source Documents as the rag_dataset\n",
    "    rag_dataset=rag_dataset,\n",
    "    judge_llm=Settings.llm,\n",
    "    embed_model=Settings.embed_model,\n",
    "    show_progress=True\n",
    ")"
   ]
  },
  {
   "cell_type": "code",
   "execution_count": 25,
   "id": "53e8f94a-bec3-4a45-abea-439b83d01f8d",
   "metadata": {},
   "outputs": [],
   "source": [
    "rag_evaluator_hybrid = RagEvaluatorPack(\n",
    "    query_engine=query_engine_hybrid,  # built with the same source Documents as the rag_dataset\n",
    "    rag_dataset=rag_dataset,\n",
    "    judge_llm=Settings.llm,\n",
    "    embed_model=Settings.embed_model,\n",
    "    show_progress=True\n",
    ")"
   ]
  },
  {
   "cell_type": "code",
   "execution_count": 26,
   "id": "df47a434-c9ac-4666-a7e7-7a6b9c310b19",
   "metadata": {},
   "outputs": [],
   "source": [
    "rag_evaluator_rerank = RagEvaluatorPack(\n",
    "    query_engine=query_engine_rerank,  # built with the same source Documents as the rag_dataset\n",
    "    rag_dataset=rag_dataset,\n",
    "    judge_llm=Settings.llm,\n",
    "    embed_model=Settings.embed_model,\n",
    "    show_progress=True\n",
    ")"
   ]
  },
  {
   "cell_type": "code",
   "execution_count": 88,
   "id": "08d1212b-9336-4e0e-9a07-56478c5d03d6",
   "metadata": {},
   "outputs": [],
   "source": [
    "rag_evaluator_hyde = RagEvaluatorPack(\n",
    "    query_engine=query_engine_hyde,  # built with the same source Documents as the rag_dataset\n",
    "    rag_dataset=rag_dataset,\n",
    "    judge_llm=Settings.llm,\n",
    "    embed_model=Settings.embed_model,\n",
    "    show_progress=True\n",
    ")"
   ]
  },
  {
   "cell_type": "code",
   "execution_count": 106,
   "id": "fd55d9ca-d25b-4cf1-9e5c-4c07ba7db4c6",
   "metadata": {},
   "outputs": [],
   "source": [
    "rag_evaluator_multistep = RagEvaluatorPack(\n",
    "    query_engine=query_engine_multistep,  # built with the same source Documents as the rag_dataset\n",
    "    rag_dataset=rag_dataset,\n",
    "    judge_llm=Settings.llm,\n",
    "    embed_model=Settings.embed_model,\n",
    "    show_progress=True\n",
    ")"
   ]
  },
  {
   "cell_type": "code",
   "execution_count": 27,
   "id": "2179a071-df95-45ed-a2fd-995813ed2749",
   "metadata": {},
   "outputs": [
    {
     "name": "stderr",
     "output_type": "stream",
     "text": [
      "100%|█\n",
      "100%|█\n",
      "2it [00:11,  5.56s/it]\n",
      "2it [00:11,  5.67s/it]\n",
      "2it [00:12,  6.22s/it]\n",
      "2it [00:09,  4.52s/it]\n",
      "2it [00:12,  6.42s/it]\n",
      "1it [00:06,  6.04s/it]\n"
     ]
    }
   ],
   "source": [
    "benchmark_df_basic = rag_evaluator_basic.run()"
   ]
  },
  {
   "cell_type": "code",
   "execution_count": 28,
   "id": "4ea075c7-d8aa-4ee7-b42f-a18c11bb9736",
   "metadata": {},
   "outputs": [
    {
     "name": "stderr",
     "output_type": "stream",
     "text": [
      "2it [00:12,  6.44s/it]\n",
      "2it [00:11,  5.98s/it]\n",
      "2it [00:11,  5.81s/it]\n",
      "2it [00:11,  5.80s/it]\n",
      "2it [00:12,  6.03s/it]\n",
      "1it [00:06,  6.41s/it]\n"
     ]
    }
   ],
   "source": [
    "benchmark_df_hybrid = rag_evaluator_hybrid.run()"
   ]
  },
  {
   "cell_type": "code",
   "execution_count": 29,
   "id": "23084124-c3a1-4c43-a81d-d15c651d6df9",
   "metadata": {},
   "outputs": [
    {
     "name": "stderr",
     "output_type": "stream",
     "text": [
      "2it [00:13,  6.55s/it]\n",
      "2it [00:11,  5.52s/it]\n",
      "2it [00:21, 10.53s/it]\n",
      "2it [00:13,  6.51s/it]\n",
      "2it [00:10,  5.49s/it]\n",
      "1it [00:05,  5.47s/it]\n"
     ]
    }
   ],
   "source": [
    "benchmark_df_rerank = rag_evaluator_rerank.run()"
   ]
  },
  {
   "cell_type": "code",
   "execution_count": 90,
   "id": "247afb76-ea42-421f-b93f-3b5360dd40a8",
   "metadata": {},
   "outputs": [
    {
     "name": "stderr",
     "output_type": "stream",
     "text": [
      "2it [00:10,  5.42s/it]\n",
      "2it [00:11,  5.92s/it]\n",
      "2it [00:13,  6.62s/it]\n",
      "2it [00:17,  8.99s/it]\n",
      "2it [00:12,  6.01s/it]\n",
      "1it [00:05,  5.11s/it]\n"
     ]
    }
   ],
   "source": [
    "benchmark_df_hyde = rag_evaluator_hyde.run()"
   ]
  },
  {
   "cell_type": "code",
   "execution_count": 107,
   "id": "6f6c7877-30a2-41bb-a2fd-ffe240d21e7a",
   "metadata": {},
   "outputs": [
    {
     "name": "stderr",
     "output_type": "stream",
     "text": [
      "2it [00:13,  6.92s/it]\n",
      "2it [00:10,  5.40s/it]\n",
      "2it [00:11,  5.89s/it]\n",
      "2it [00:22, 11.39s/it]\n",
      "2it [00:11,  5.74s/it]\n",
      "1it [00:05,  5.28s/it]\n"
     ]
    }
   ],
   "source": [
    "benchmark_df_multistep = rag_evaluator_multistep.run()"
   ]
  },
  {
   "cell_type": "code",
   "execution_count": 108,
   "id": "ea848fe3-f121-4050-9850-7059c3409bc9",
   "metadata": {},
   "outputs": [
    {
     "name": "stdout",
     "output_type": "stream",
     "text": [
      "rag                            base_rag\n",
      "metrics                                \n",
      "mean_correctness_score         4.818182\n",
      "mean_relevancy_score           0.909091\n",
      "mean_faithfulness_score        0.909091\n",
      "mean_context_similarity_score  0.846435\n",
      "\n",
      "rag                            base_rag\n",
      "metrics                                \n",
      "mean_correctness_score         4.818182\n",
      "mean_relevancy_score           1.000000\n",
      "mean_faithfulness_score        0.909091\n",
      "mean_context_similarity_score  0.846435\n",
      "\n",
      "rag                            base_rag\n",
      "metrics                                \n",
      "mean_correctness_score         4.818182\n",
      "mean_relevancy_score           0.909091\n",
      "mean_faithfulness_score        1.000000\n",
      "mean_context_similarity_score  0.846435\n",
      "\n",
      "rag                            base_rag\n",
      "metrics                                \n",
      "mean_correctness_score         4.791667\n",
      "mean_relevancy_score           0.916667\n",
      "mean_faithfulness_score        0.833333\n",
      "mean_context_similarity_score  0.847857\n",
      "\n",
      "rag                            base_rag\n",
      "metrics                                \n",
      "mean_correctness_score         4.818182\n",
      "mean_relevancy_score           1.000000\n",
      "mean_faithfulness_score        0.909091\n",
      "mean_context_similarity_score  0.846435\n",
      "\n"
     ]
    }
   ],
   "source": [
    "benchmark_results = [\n",
    "    benchmark_df_basic,\n",
    "    benchmark_df_hybrid,\n",
    "    benchmark_df_rerank,\n",
    "    benchmark_df_hyde,\n",
    "    benchmark_df_multistep\n",
    "]\n",
    "for result_df in benchmark_results:\n",
    "    print(result_df.head())\n",
    "    print()"
   ]
  },
  {
   "cell_type": "markdown",
   "id": "20a7dd6e-3265-42c1-984b-e64ae1f6aee3",
   "metadata": {},
   "source": [
    "### Test 2 - Evaluate Hit Rate and Maximum Marginal Relevance"
   ]
  },
  {
   "cell_type": "code",
   "execution_count": 31,
   "id": "36843026-a5d0-4a40-b8e0-304406585b4c",
   "metadata": {},
   "outputs": [],
   "source": [
    "index_async = VectorStoreIndex.from_vector_store(vector_store=vector_store, use_async=True)"
   ]
  },
  {
   "cell_type": "code",
   "execution_count": 32,
   "id": "1af41bb6-88c9-42ea-bd85-bc0d2d5d8b61",
   "metadata": {},
   "outputs": [],
   "source": [
    "retriever = index_async.as_retriever(\n",
    "    similarity_top_k=2,\n",
    "    sparse_top_k=12,\n",
    "    use_async=True\n",
    ")"
   ]
  },
  {
   "cell_type": "code",
   "execution_count": 33,
   "id": "5e812bc5-a24f-4996-9f1d-274cc7ed98f1",
   "metadata": {},
   "outputs": [],
   "source": [
    "retriever_hybrid = index_async.as_retriever(\n",
    "    similarity_top_k=2,\n",
    "    sparse_top_k=12,\n",
    "    vector_store_query_mode=\"hybrid\",\n",
    "    use_async=True\n",
    ")"
   ]
  },
  {
   "cell_type": "code",
   "execution_count": 35,
   "id": "83c53eb6-1308-48d0-9657-49daa38521d0",
   "metadata": {},
   "outputs": [],
   "source": [
    "retriever_rerank = index_async.as_retriever(\n",
    "    similarity_top_k=2,\n",
    "    sparse_top_k=12,\n",
    "    vector_store_query_mode=\"hybrid\",\n",
    "    node_postprocessors=[RERANK_MODEL],\n",
    "    use_async=True\n",
    ")"
   ]
  },
  {
   "cell_type": "code",
   "execution_count": 75,
   "id": "3e70245f-2bfc-4acb-8a66-fbf16c36190c",
   "metadata": {},
   "outputs": [],
   "source": [
    "# This notebook assumes you have already made this for your VectorStore\n",
    "# If not, run this function on your VectorStore\n",
    "def create_and_save_test_dataset():\n",
    "    nodes = vector_store.get_nodes()\n",
    "    qa_dataset = generate_question_context_pairs(\n",
    "        nodes, llm=Settings.llm, num_questions_per_chunk=1\n",
    "    )\n",
    "    qa_dataset.save_json(\"qa_dataset.json\")\n",
    "    return qa_dataset\n",
    "# qa_dataset=create_and_save_test_dataset()\n",
    "\n",
    "qa_dataset = EmbeddingQAFinetuneDataset.from_json(\"qa_dataset.json\")"
   ]
  },
  {
   "cell_type": "code",
   "execution_count": 70,
   "id": "8316827c-1e70-4681-a143-4174bc8d6bd1",
   "metadata": {},
   "outputs": [],
   "source": [
    "metrics = [\"hit_rate\", \"mrr\", \"precision\", \"recall\", \"ap\", \"ndcg\"]"
   ]
  },
  {
   "cell_type": "code",
   "execution_count": 71,
   "id": "65e81adf-a549-41c1-a02a-bc1a519f4de2",
   "metadata": {},
   "outputs": [],
   "source": [
    "retriever_evaluator = RetrieverEvaluator.from_metric_names(\n",
    "    metrics, retriever=retriever, use_async=True\n",
    ")"
   ]
  },
  {
   "cell_type": "code",
   "execution_count": 72,
   "id": "b18c769b-ad59-4254-b3fa-e0054576cb57",
   "metadata": {},
   "outputs": [],
   "source": [
    "retriever_evaluator_hybrid = RetrieverEvaluator.from_metric_names(\n",
    "    metrics, retriever=retriever_hybrid, use_async=True\n",
    ")"
   ]
  },
  {
   "cell_type": "code",
   "execution_count": 73,
   "id": "911513d1-355f-44db-8233-e5e003d11ad4",
   "metadata": {},
   "outputs": [],
   "source": [
    "retriever_evaluator_rerank = RetrieverEvaluator.from_metric_names(\n",
    "    metrics, retriever=retriever_rerank, use_async=True\n",
    ")"
   ]
  },
  {
   "cell_type": "code",
   "execution_count": 109,
   "id": "7b18676d-3669-43c9-bacd-0edbf5639b17",
   "metadata": {},
   "outputs": [],
   "source": [
    "import copy\n",
    "qa_dataset_hyde = copy.deepcopy(qa_dataset)"
   ]
  },
  {
   "cell_type": "code",
   "execution_count": 120,
   "id": "6c93ff09-520f-430f-b895-294352406969",
   "metadata": {},
   "outputs": [],
   "source": [
    "transformed_queries = {}\n",
    "for query_id, query in qa_dataset_hyde.queries.items():\n",
    "    transformed_query = hyde.run(query)\n",
    "    merged_query_and_answer = \" \".join(transformed_query.custom_embedding_strs)\n",
    "    qa_dataset_hyde.queries[query_id] = merged_query_and_answer"
   ]
  },
  {
   "cell_type": "code",
   "execution_count": 155,
   "id": "cf4911ed-9061-4e95-ba25-68abeb8ef25d",
   "metadata": {},
   "outputs": [],
   "source": [
    "for query_id, query in qa_dataset_hyde.queries.items():\n",
    "    merged_query_and_answer = \" \".join(query.custom_embedding_strs)\n",
    "    qa_dataset_hyde.queries[query_id] = merged_query_and_answer"
   ]
  },
  {
   "cell_type": "code",
   "execution_count": null,
   "id": "2e278898-c292-4d01-9f09-35b92b99b9eb",
   "metadata": {},
   "outputs": [],
   "source": []
  },
  {
   "cell_type": "code",
   "execution_count": 74,
   "id": "4541ecb9-748b-40cb-84c5-7b8344d8351c",
   "metadata": {},
   "outputs": [
    {
     "data": {
      "text/plain": [
       "<Signature (query: str, expected_ids: List[str], expected_texts: Optional[List[str]] = None, mode: llama_index.core.evaluation.retrieval.base.RetrievalEvalMode = <RetrievalEvalMode.TEXT: 'text'>, **kwargs: Any) -> llama_index.core.evaluation.retrieval.base.RetrievalEvalResult>"
      ]
     },
     "execution_count": 74,
     "metadata": {},
     "output_type": "execute_result"
    }
   ],
   "source": [
    "inspect.signature(retriever_evaluator.aevaluate)"
   ]
  },
  {
   "cell_type": "code",
   "execution_count": 76,
   "id": "587b3d71-23d4-49c2-873a-b1b1ffb556a5",
   "metadata": {},
   "outputs": [
    {
     "name": "stderr",
     "output_type": "stream",
     "text": [
      "100%|█\n"
     ]
    }
   ],
   "source": [
    "eval_results_basic = await retriever_evaluator.aevaluate_dataset(dataset=qa_dataset, workers=10, show_progress=True)"
   ]
  },
  {
   "cell_type": "code",
   "execution_count": 77,
   "id": "912bb96b-1fff-4a00-8d19-41b347abb94e",
   "metadata": {},
   "outputs": [
    {
     "name": "stderr",
     "output_type": "stream",
     "text": [
      "100%|█\n"
     ]
    }
   ],
   "source": [
    "eval_results_hybrid = await retriever_evaluator_hybrid.aevaluate_dataset(dataset=qa_dataset, workers=10, show_progress=True)"
   ]
  },
  {
   "cell_type": "code",
   "execution_count": 78,
   "id": "4d456bef-dc16-42cf-8dd1-c8fca1889868",
   "metadata": {},
   "outputs": [
    {
     "name": "stderr",
     "output_type": "stream",
     "text": [
      "100%|█\n"
     ]
    }
   ],
   "source": [
    "eval_results_rerank = await retriever_evaluator_rerank.aevaluate_dataset(dataset=qa_dataset, workers=10, show_progress=True)"
   ]
  },
  {
   "cell_type": "code",
   "execution_count": 156,
   "id": "8d5100b8-f900-424e-87f9-fa36e731c76c",
   "metadata": {},
   "outputs": [
    {
     "name": "stderr",
     "output_type": "stream",
     "text": [
      "\n",
      "  0%| |\u001b[A\n",
      "  1%| |\u001b[A\n",
      "  1%| |\u001b[A\n",
      "  2%| |\u001b[A\n",
      "  3%| |\u001b[A\n",
      "  7%| |\u001b[A\n",
      "  8%| |\u001b[A\n",
      " 10%| |\u001b[A\n",
      " 11%| |\u001b[A\n",
      " 12%| |\u001b[A\n",
      " 14%|▏|\u001b[A\n",
      " 14%|▏|\u001b[A\n",
      " 15%|▏|\u001b[A\n",
      " 17%|▏|\u001b[A\n",
      " 18%|▏|\u001b[A\n",
      " 18%|▏|\u001b[A\n",
      " 20%|▏|\u001b[A\n",
      " 20%|▏|\u001b[A\n",
      " 21%|▏|\u001b[A\n",
      " 22%|▏|\u001b[A\n",
      " 24%|▏|\u001b[A\n",
      " 25%|▏|\u001b[A\n",
      " 26%|▎|\u001b[A\n",
      " 27%|▎|\u001b[A\n",
      " 28%|▎|\u001b[A\n",
      " 31%|▎|\u001b[A\n",
      " 33%|▎|\u001b[A\n",
      " 33%|▎|\u001b[A\n",
      " 35%|▎|\u001b[A\n",
      " 37%|▎|\u001b[A\n",
      " 39%|▍|\u001b[A\n",
      " 39%|▍|\u001b[A\n",
      " 40%|▍|\u001b[A\n",
      " 41%|▍|\u001b[A\n",
      " 42%|▍|\u001b[A\n",
      " 44%|▍|\u001b[A\n",
      " 46%|▍|\u001b[A\n",
      " 46%|▍|\u001b[A\n",
      " 47%|▍|\u001b[A\n",
      " 49%|▍|\u001b[A\n",
      " 50%|▍|\u001b[A\n",
      " 52%|▌|\u001b[A\n",
      " 52%|▌|\u001b[A\n",
      " 53%|▌|\u001b[A\n",
      " 56%|▌|\u001b[A\n",
      " 56%|▌|\u001b[A\n",
      " 58%|▌|\u001b[A\n",
      " 58%|▌|\u001b[A\n",
      " 59%|▌|\u001b[A\n",
      " 59%|▌|\u001b[A\n",
      " 60%|▌|\u001b[A\n",
      " 63%|▋|\u001b[A\n",
      " 63%|▋|\u001b[A\n",
      " 65%|▋|\u001b[A\n",
      " 66%|▋|\u001b[A\n",
      " 67%|▋|\u001b[A\n",
      " 68%|▋|\u001b[A\n",
      " 70%|▋|\u001b[A\n",
      " 71%|▋|\u001b[A\n",
      " 72%|▋|\u001b[A\n",
      " 73%|▋|\u001b[A\n",
      " 75%|▋|\u001b[A\n",
      " 75%|▊|\u001b[A\n",
      " 77%|▊|\u001b[A\n",
      " 78%|▊|\u001b[A\n",
      " 79%|▊|\u001b[A\n",
      " 82%|▊|\u001b[A\n",
      " 84%|▊|\u001b[A\n",
      " 85%|▊|\u001b[A\n",
      " 86%|▊|\u001b[A\n",
      " 88%|▉|\u001b[A\n",
      " 90%|▉|\u001b[A\n",
      " 90%|▉|\u001b[A\n",
      " 92%|▉|\u001b[A\n",
      "100%|█|\u001b[A\n"
     ]
    }
   ],
   "source": [
    "eval_results_hyde = await retriever_evaluator_rerank.aevaluate_dataset(dataset=qa_dataset_hyde, workers=10, show_progress=True)"
   ]
  },
  {
   "cell_type": "code",
   "execution_count": 79,
   "id": "acce7c79-ffe1-4f6d-9ec2-29a7eda41d2c",
   "metadata": {},
   "outputs": [],
   "source": [
    "def display_results(name, eval_results):\n",
    "    \"\"\"Display results from evaluate.\"\"\"\n",
    "\n",
    "    metric_dicts = []\n",
    "    for eval_result in eval_results:\n",
    "        metric_dict = eval_result.metric_vals_dict\n",
    "        metric_dicts.append(metric_dict)\n",
    "\n",
    "    full_df = pd.DataFrame(metric_dicts)\n",
    "\n",
    "    columns = {\n",
    "        \"retrievers\": [name],\n",
    "        **{k: [full_df[k].mean()] for k in metrics},\n",
    "    }\n",
    "\n",
    "    # if include_cohere_rerank:\n",
    "    #     crr_relevancy = full_df[\"cohere_rerank_relevancy\"].mean()\n",
    "    #     columns.update({\"cohere_rerank_relevancy\": [crr_relevancy]})\n",
    "\n",
    "    metric_df = pd.DataFrame(columns)\n",
    "\n",
    "    return metric_df"
   ]
  },
  {
   "cell_type": "code",
   "execution_count": 80,
   "id": "2ae44d2e-38e8-4b3c-b0b8-31890a8f105e",
   "metadata": {},
   "outputs": [
    {
     "data": {
      "text/html": [
       "<div>\n",
       "<style scoped>\n",
       "    .dataframe tbody tr th:only-of-type {\n",
       "        vertical-align: middle;\n",
       "    }\n",
       "\n",
       "    .dataframe tbody tr th {\n",
       "        vertical-align: top;\n",
       "    }\n",
       "\n",
       "    .dataframe thead th {\n",
       "        text-align: right;\n",
       "    }\n",
       "</style>\n",
       "<table border=\"1\" class=\"dataframe\">\n",
       "  <thead>\n",
       "    <tr style=\"text-align: right;\">\n",
       "      <th></th>\n",
       "      <th>retrievers</th>\n",
       "      <th>hit_rate</th>\n",
       "      <th>mrr</th>\n",
       "      <th>precision</th>\n",
       "      <th>recall</th>\n",
       "      <th>ap</th>\n",
       "      <th>ndcg</th>\n",
       "    </tr>\n",
       "  </thead>\n",
       "  <tbody>\n",
       "    <tr>\n",
       "      <th>0</th>\n",
       "      <td>Basic Retriever</td>\n",
       "      <td>0.830065</td>\n",
       "      <td>0.79085</td>\n",
       "      <td>0.415033</td>\n",
       "      <td>0.830065</td>\n",
       "      <td>0.79085</td>\n",
       "      <td>0.491204</td>\n",
       "    </tr>\n",
       "  </tbody>\n",
       "</table>\n",
       "</div>"
      ],
      "text/plain": [
       "        retrievers  hit_rate      mrr  precision    recall       ap      ndcg\n",
       "0  Basic Retriever  0.830065  0.79085   0.415033  0.830065  0.79085  0.491204"
      ]
     },
     "execution_count": 80,
     "metadata": {},
     "output_type": "execute_result"
    }
   ],
   "source": [
    "display_results(\"Basic Retriever\", eval_results_basic)"
   ]
  },
  {
   "cell_type": "code",
   "execution_count": 81,
   "id": "2c52f45c-38eb-47d9-87e4-a1e4b7a73e8f",
   "metadata": {},
   "outputs": [
    {
     "data": {
      "text/html": [
       "<div>\n",
       "<style scoped>\n",
       "    .dataframe tbody tr th:only-of-type {\n",
       "        vertical-align: middle;\n",
       "    }\n",
       "\n",
       "    .dataframe tbody tr th {\n",
       "        vertical-align: top;\n",
       "    }\n",
       "\n",
       "    .dataframe thead th {\n",
       "        text-align: right;\n",
       "    }\n",
       "</style>\n",
       "<table border=\"1\" class=\"dataframe\">\n",
       "  <thead>\n",
       "    <tr style=\"text-align: right;\">\n",
       "      <th></th>\n",
       "      <th>retrievers</th>\n",
       "      <th>hit_rate</th>\n",
       "      <th>mrr</th>\n",
       "      <th>precision</th>\n",
       "      <th>recall</th>\n",
       "      <th>ap</th>\n",
       "      <th>ndcg</th>\n",
       "    </tr>\n",
       "  </thead>\n",
       "  <tbody>\n",
       "    <tr>\n",
       "      <th>0</th>\n",
       "      <td>Hybrid Retriever</td>\n",
       "      <td>0.836601</td>\n",
       "      <td>0.794118</td>\n",
       "      <td>0.418301</td>\n",
       "      <td>0.836601</td>\n",
       "      <td>0.794118</td>\n",
       "      <td>0.493732</td>\n",
       "    </tr>\n",
       "  </tbody>\n",
       "</table>\n",
       "</div>"
      ],
      "text/plain": [
       "         retrievers  hit_rate       mrr  precision    recall        ap  \\\n",
       "0  Hybrid Retriever  0.836601  0.794118   0.418301  0.836601  0.794118   \n",
       "\n",
       "       ndcg  \n",
       "0  0.493732  "
      ]
     },
     "execution_count": 81,
     "metadata": {},
     "output_type": "execute_result"
    }
   ],
   "source": [
    "display_results(\"Hybrid Retriever\", eval_results_hybrid)"
   ]
  },
  {
   "cell_type": "code",
   "execution_count": 82,
   "id": "d177dee5-20e9-4cd5-b627-5e7d49423bdb",
   "metadata": {},
   "outputs": [
    {
     "data": {
      "text/html": [
       "<div>\n",
       "<style scoped>\n",
       "    .dataframe tbody tr th:only-of-type {\n",
       "        vertical-align: middle;\n",
       "    }\n",
       "\n",
       "    .dataframe tbody tr th {\n",
       "        vertical-align: top;\n",
       "    }\n",
       "\n",
       "    .dataframe thead th {\n",
       "        text-align: right;\n",
       "    }\n",
       "</style>\n",
       "<table border=\"1\" class=\"dataframe\">\n",
       "  <thead>\n",
       "    <tr style=\"text-align: right;\">\n",
       "      <th></th>\n",
       "      <th>retrievers</th>\n",
       "      <th>hit_rate</th>\n",
       "      <th>mrr</th>\n",
       "      <th>precision</th>\n",
       "      <th>recall</th>\n",
       "      <th>ap</th>\n",
       "      <th>ndcg</th>\n",
       "    </tr>\n",
       "  </thead>\n",
       "  <tbody>\n",
       "    <tr>\n",
       "      <th>0</th>\n",
       "      <td>Rerank Retriever</td>\n",
       "      <td>0.836601</td>\n",
       "      <td>0.794118</td>\n",
       "      <td>0.418301</td>\n",
       "      <td>0.836601</td>\n",
       "      <td>0.794118</td>\n",
       "      <td>0.493732</td>\n",
       "    </tr>\n",
       "  </tbody>\n",
       "</table>\n",
       "</div>"
      ],
      "text/plain": [
       "         retrievers  hit_rate       mrr  precision    recall        ap  \\\n",
       "0  Rerank Retriever  0.836601  0.794118   0.418301  0.836601  0.794118   \n",
       "\n",
       "       ndcg  \n",
       "0  0.493732  "
      ]
     },
     "execution_count": 82,
     "metadata": {},
     "output_type": "execute_result"
    }
   ],
   "source": [
    "display_results(\"Rerank Retriever\", eval_results_rerank)"
   ]
  },
  {
   "cell_type": "code",
   "execution_count": 157,
   "id": "8d94e3c9-99b2-4478-8249-33145c968e33",
   "metadata": {},
   "outputs": [
    {
     "data": {
      "text/html": [
       "<div>\n",
       "<style scoped>\n",
       "    .dataframe tbody tr th:only-of-type {\n",
       "        vertical-align: middle;\n",
       "    }\n",
       "\n",
       "    .dataframe tbody tr th {\n",
       "        vertical-align: top;\n",
       "    }\n",
       "\n",
       "    .dataframe thead th {\n",
       "        text-align: right;\n",
       "    }\n",
       "</style>\n",
       "<table border=\"1\" class=\"dataframe\">\n",
       "  <thead>\n",
       "    <tr style=\"text-align: right;\">\n",
       "      <th></th>\n",
       "      <th>retrievers</th>\n",
       "      <th>hit_rate</th>\n",
       "      <th>mrr</th>\n",
       "      <th>precision</th>\n",
       "      <th>recall</th>\n",
       "      <th>ap</th>\n",
       "      <th>ndcg</th>\n",
       "    </tr>\n",
       "  </thead>\n",
       "  <tbody>\n",
       "    <tr>\n",
       "      <th>0</th>\n",
       "      <td>HyDE Retriever</td>\n",
       "      <td>0.69281</td>\n",
       "      <td>0.611111</td>\n",
       "      <td>0.346405</td>\n",
       "      <td>0.69281</td>\n",
       "      <td>0.611111</td>\n",
       "      <td>0.387819</td>\n",
       "    </tr>\n",
       "  </tbody>\n",
       "</table>\n",
       "</div>"
      ],
      "text/plain": [
       "       retrievers  hit_rate       mrr  precision   recall        ap      ndcg\n",
       "0  HyDE Retriever   0.69281  0.611111   0.346405  0.69281  0.611111  0.387819"
      ]
     },
     "execution_count": 157,
     "metadata": {},
     "output_type": "execute_result"
    }
   ],
   "source": [
    "display_results(\"HyDE Retriever\", eval_results_hyde)"
   ]
  }
 ],
 "metadata": {
  "kernelspec": {
   "display_name": "Python 3 (ipykernel)",
   "language": "python",
   "name": "python3"
  },
  "language_info": {
   "codemirror_mode": {
    "name": "ipython",
    "version": 3
   },
   "file_extension": ".py",
   "mimetype": "text/x-python",
   "name": "python",
   "nbconvert_exporter": "python",
   "pygments_lexer": "ipython3",
   "version": "3.10.12"
  }
 },
 "nbformat": 4,
 "nbformat_minor": 5
}
